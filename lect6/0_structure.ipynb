{
 "cells": [
  {
   "cell_type": "markdown",
   "metadata": {},
   "source": [
    "# Lecture 6: Miscelaneous contents\n",
    "- [Exploratory analysis](explore_top_billionaries.ipynb)\n",
    "- [Introduction to time series analysis](time_series_intro.ipynb)\n",
    "- [Solving a time serie as a classification problem](pred_energy.ipynb)\n",
    "- [Introduction to Recurrent Neural Networks](intro_rnn.ipynb)\n",
    "- [Introduction to sound processing](introduction_sound_processing.ipynb)\n",
    "- Final course survey (PNI)"
   ]
  },
  {
   "cell_type": "markdown",
   "metadata": {},
   "source": []
  }
 ],
 "metadata": {
  "kernelspec": {
   "display_name": "torch_teach",
   "language": "python",
   "name": "python3"
  },
  "language_info": {
   "name": "python",
   "version": "3.10.14"
  }
 },
 "nbformat": 4,
 "nbformat_minor": 2
}
